{
  "metadata": {
    "kernelspec": {
      "language": "python",
      "display_name": "Python 3",
      "name": "python3"
    },
    "language_info": {
      "name": "python",
      "version": "3.10.12",
      "mimetype": "text/x-python",
      "codemirror_mode": {
        "name": "ipython",
        "version": 3
      },
      "pygments_lexer": "ipython3",
      "nbconvert_exporter": "python",
      "file_extension": ".py"
    },
    "kaggle": {
      "accelerator": "none",
      "dataSources": [
        {
          "sourceId": 1490938,
          "sourceType": "datasetVersion",
          "datasetId": 875281
        }
      ],
      "dockerImageVersionId": 30918,
      "isInternetEnabled": true,
      "language": "python",
      "sourceType": "notebook",
      "isGpuEnabled": false
    },
    "colab": {
      "provenance": []
    }
  },
  "nbformat_minor": 0,
  "nbformat": 4,
  "cells": [
    {
      "cell_type": "markdown",
      "source": [
        "# ECG Modeling\n",
        "\n"
      ],
      "metadata": {
        "id": "IAk2vboE1xw9"
      }
    },
    {
      "cell_type": "markdown",
      "source": [
        "# load DataFrames\n"
      ],
      "metadata": {
        "id": "BygOeagl3Kwc"
      }
    },
    {
      "cell_type": "code",
      "source": [
        "#  Load ecg_train_df and ecg_test_df\n",
        "\n",
        "import pandas as pd\n",
        "\n",
        "\n",
        "try:\n",
        "    train_df = pd.read_csv('ecg_train.csv')\n",
        "    test_df = pd.read_csv('ecg_test.csv')\n",
        "    print(\"DataFrames loaded successfully.\")\n",
        "except FileNotFoundError:\n",
        "    print(\"Error: One or both of the CSV files were not found. Please check the filenames and ensure they are in the current working directory.\")\n",
        "except pd.errors.ParserError:\n",
        "    print(\"Error: Could not parse the CSV files.  Please check their format.\")\n",
        "except Exception as e:\n",
        "    print(f\"An unexpected error occurred: {e}\")\n"
      ],
      "metadata": {
        "id": "jd_FWMiC3TWj"
      },
      "execution_count": null,
      "outputs": []
    },
    {
      "cell_type": "markdown",
      "source": [
        "As we know, the ECG dataset is highly imbalanced.\n",
        "\n",
        "So, in my initial experiment,\n",
        "\n",
        "I tried to handle this issue using data augmentation and class weights."
      ],
      "metadata": {
        "id": "5c7IEjK22i6j"
      }
    },
    {
      "cell_type": "markdown",
      "source": [],
      "metadata": {
        "id": "mBYFq8sK24v7"
      }
    },
    {
      "cell_type": "markdown",
      "metadata": {
        "id": "ohEwoAuNSyQ4"
      },
      "source": [
        "##  Data Augmentation\n",
        "Data augmentation is a technique used to increase the size of the training dataset by applying random transformations to the images. This helps to improve the model's ability to generalize and reduce overfitting. We will apply the following augmentations to the training data:\n",
        "\n",
        "- *Rotation*: Rotate images to simulate different orientations.\n",
        "- *Width and Height Shift*: Randomly shift the image along width and height to make the model more robust.\n",
        "- *Zoom*: Zoom in on the image to simulate scale variation.\n",
        "- *Flip*: Flip the image horizontally or vertically.\n",
        "- *Brightness*: Adjust brightness randomly to simulate lighting changes.\n",
        "\n",
        "These augmentations will help increase the diversity of the dataset and improve model accuracy on unseen data."
      ]
    },
    {
      "cell_type": "code",
      "source": [],
      "metadata": {
        "id": "e6xEb3Ch30wX"
      },
      "execution_count": null,
      "outputs": []
    },
    {
      "cell_type": "code",
      "source": [
        "\n",
        "from tensorflow.keras.preprocessing.image import ImageDataGenerator\n",
        "from sklearn.model_selection import train_test_split\n",
        "\n",
        "# Split the data into training and validation sets\n",
        "train_df,val_df = train_test_split(train_df,test_size=0.2,random_state=42,stratify=train_df['label'])\n",
        "# Create the data generators for train, validation, and test\n",
        "train_datagen = ImageDataGenerator(rescale=1./255)\n",
        "val_datagen = ImageDataGenerator(rescale=1./255)\n",
        "test_datagen = ImageDataGenerator(rescale=1./255)\n",
        "\n",
        "\n",
        "\n",
        "    # Create train and validation generators\n",
        "train_generator = train_datagen.flow_from_dataframe(\n",
        "        train_df,\n",
        "        x_col='image_path',\n",
        "        y_col='label',\n",
        "        target_size=(224, 224),\n",
        "        batch_size=32,\n",
        "        class_mode='categorical',\n",
        "        shuffle = True\n",
        "    )\n",
        "\n",
        "val_generator = val_datagen.flow_from_dataframe(\n",
        "        val_df,\n",
        "        x_col='image_path',\n",
        "        y_col='label',\n",
        "        target_size=(224, 224),\n",
        "        batch_size=32,\n",
        "        class_mode='categorical'\n",
        "    )\n",
        "\n",
        "    # Create a test generator (using the test dataframe, assuming you have one)\n",
        "test_generator = test_datagen.flow_from_dataframe(\n",
        "        test_df,\n",
        "        x_col='image_path',\n",
        "        y_col='label',\n",
        "        target_size=(224, 224),\n",
        "        batch_size=32,\n",
        "        class_mode='categorical'\n",
        "    )\n",
        "\n",
        "    # Now you can train your model with train_generator and validate with val_generator"
      ],
      "metadata": {
        "trusted": true,
        "execution": {
          "iopub.status.busy": "2025-04-07T08:31:19.283542Z",
          "iopub.execute_input": "2025-04-07T08:31:19.283833Z",
          "iopub.status.idle": "2025-04-07T08:35:50.154112Z",
          "shell.execute_reply.started": "2025-04-07T08:31:19.283812Z",
          "shell.execute_reply": "2025-04-07T08:35:50.153450Z"
        },
        "id": "v3x5ZcwH4RHg",
        "outputId": "98fbeebc-97ba-437e-aaab-1aa8c3feb871"
      },
      "outputs": [
        {
          "name": "stdout",
          "text": "Found 79359 validated image filenames belonging to 6 classes.\nFound 19840 validated image filenames belonging to 6 classes.\nFound 24799 validated image filenames belonging to 6 classes.\n",
          "output_type": "stream"
        }
      ],
      "execution_count": null
    },
    {
      "cell_type": "code",
      "source": [
        "import tensorflow as tf\n",
        "from tensorflow.keras import layers, models\n",
        "from tensorflow.keras.applications import VGG16\n",
        "from tensorflow.keras.preprocessing.image import ImageDataGenerator\n",
        "from sklearn.utils import class_weight\n",
        "import numpy as np\n",
        "from keras.callbacks import EarlyStopping\n",
        "from tensorflow.keras.callbacks import ReduceLROnPlateau\n",
        "\n",
        "#Compute class weights for handling imbalanced data y_train = train_df['label'].values class_weights = class_weight.compute_class_weight( class_weight='balanced', classes=np.unique(y_train), y=y_train ) class_weight_dict = {i: class_weights[i] for i in range(len(class_weights))}\n",
        "\n",
        "#Load the VGG16 model pre-trained on ImageNet, without the top layer (to modify for our problem)\n",
        "base_model = VGG16(weights='imagenet', include_top=False, input_shape=(224, 224, 3))\n",
        "\n",
        "#Freeze the layers of VGG16 to retain its learned features\n",
        "for layer in base_model.layers:\n",
        "    layer.trainable = False\n",
        "\n",
        "#Create the model by adding custom layers on top of VGG16\n",
        "model = models.Sequential()\n",
        "model.add(base_model)\n",
        "model.add(layers.GlobalAveragePooling2D())\n",
        "model.add(layers.Dense(128, activation='relu'))\n",
        "model.add(layers.Dropout(0.5))\n",
        "model.add(layers.Dense(6, activation='softmax')) # 6 classes (change as needed)\n",
        "model.summary()\n"
      ],
      "metadata": {
        "trusted": true,
        "execution": {
          "iopub.status.busy": "2025-04-07T08:38:51.025488Z",
          "iopub.execute_input": "2025-04-07T08:38:51.026166Z",
          "iopub.status.idle": "2025-04-07T08:38:54.376597Z",
          "shell.execute_reply.started": "2025-04-07T08:38:51.026136Z",
          "shell.execute_reply": "2025-04-07T08:38:54.375956Z"
        },
        "id": "CenQVIkB4RHi",
        "outputId": "5d6f79bd-289a-4a81-8ac8-41844ee56f96"
      },
      "outputs": [
        {
          "name": "stdout",
          "text": "Downloading data from https://storage.googleapis.com/tensorflow/keras-applications/vgg16/vgg16_weights_tf_dim_ordering_tf_kernels_notop.h5\n\u001b[1m58889256/58889256\u001b[0m \u001b[32m━━━━━━━━━━━━━━━━━━━━\u001b[0m\u001b[37m\u001b[0m \u001b[1m0s\u001b[0m 0us/step\n",
          "output_type": "stream"
        },
        {
          "output_type": "display_data",
          "data": {
            "text/plain": "\u001b[1mModel: \"sequential\"\u001b[0m\n",
            "text/html": "<pre style=\"white-space:pre;overflow-x:auto;line-height:normal;font-family:Menlo,'DejaVu Sans Mono',consolas,'Courier New',monospace\"><span style=\"font-weight: bold\">Model: \"sequential\"</span>\n</pre>\n"
          },
          "metadata": {}
        },
        {
          "output_type": "display_data",
          "data": {
            "text/plain": "┏━━━━━━━━━━━━━━━━━━━━━━━━━━━━━━━━━━━━━━┳━━━━━━━━━━━━━━━━━━━━━━━━━━━━━┳━━━━━━━━━━━━━━━━━┓\n┃\u001b[1m \u001b[0m\u001b[1mLayer (type)                        \u001b[0m\u001b[1m \u001b[0m┃\u001b[1m \u001b[0m\u001b[1mOutput Shape               \u001b[0m\u001b[1m \u001b[0m┃\u001b[1m \u001b[0m\u001b[1m        Param #\u001b[0m\u001b[1m \u001b[0m┃\n┡━━━━━━━━━━━━━━━━━━━━━━━━━━━━━━━━━━━━━━╇━━━━━━━━━━━━━━━━━━━━━━━━━━━━━╇━━━━━━━━━━━━━━━━━┩\n│ vgg16 (\u001b[38;5;33mFunctional\u001b[0m)                   │ (\u001b[38;5;45mNone\u001b[0m, \u001b[38;5;34m7\u001b[0m, \u001b[38;5;34m7\u001b[0m, \u001b[38;5;34m512\u001b[0m)           │      \u001b[38;5;34m14,714,688\u001b[0m │\n├──────────────────────────────────────┼─────────────────────────────┼─────────────────┤\n│ global_average_pooling2d             │ (\u001b[38;5;45mNone\u001b[0m, \u001b[38;5;34m512\u001b[0m)                 │               \u001b[38;5;34m0\u001b[0m │\n│ (\u001b[38;5;33mGlobalAveragePooling2D\u001b[0m)             │                             │                 │\n├──────────────────────────────────────┼─────────────────────────────┼─────────────────┤\n│ dense (\u001b[38;5;33mDense\u001b[0m)                        │ (\u001b[38;5;45mNone\u001b[0m, \u001b[38;5;34m128\u001b[0m)                 │          \u001b[38;5;34m65,664\u001b[0m │\n├──────────────────────────────────────┼─────────────────────────────┼─────────────────┤\n│ dropout (\u001b[38;5;33mDropout\u001b[0m)                    │ (\u001b[38;5;45mNone\u001b[0m, \u001b[38;5;34m128\u001b[0m)                 │               \u001b[38;5;34m0\u001b[0m │\n├──────────────────────────────────────┼─────────────────────────────┼─────────────────┤\n│ dense_1 (\u001b[38;5;33mDense\u001b[0m)                      │ (\u001b[38;5;45mNone\u001b[0m, \u001b[38;5;34m6\u001b[0m)                   │             \u001b[38;5;34m774\u001b[0m │\n└──────────────────────────────────────┴─────────────────────────────┴─────────────────┘\n",
            "text/html": "<pre style=\"white-space:pre;overflow-x:auto;line-height:normal;font-family:Menlo,'DejaVu Sans Mono',consolas,'Courier New',monospace\">┏━━━━━━━━━━━━━━━━━━━━━━━━━━━━━━━━━━━━━━┳━━━━━━━━━━━━━━━━━━━━━━━━━━━━━┳━━━━━━━━━━━━━━━━━┓\n┃<span style=\"font-weight: bold\"> Layer (type)                         </span>┃<span style=\"font-weight: bold\"> Output Shape                </span>┃<span style=\"font-weight: bold\">         Param # </span>┃\n┡━━━━━━━━━━━━━━━━━━━━━━━━━━━━━━━━━━━━━━╇━━━━━━━━━━━━━━━━━━━━━━━━━━━━━╇━━━━━━━━━━━━━━━━━┩\n│ vgg16 (<span style=\"color: #0087ff; text-decoration-color: #0087ff\">Functional</span>)                   │ (<span style=\"color: #00d7ff; text-decoration-color: #00d7ff\">None</span>, <span style=\"color: #00af00; text-decoration-color: #00af00\">7</span>, <span style=\"color: #00af00; text-decoration-color: #00af00\">7</span>, <span style=\"color: #00af00; text-decoration-color: #00af00\">512</span>)           │      <span style=\"color: #00af00; text-decoration-color: #00af00\">14,714,688</span> │\n├──────────────────────────────────────┼─────────────────────────────┼─────────────────┤\n│ global_average_pooling2d             │ (<span style=\"color: #00d7ff; text-decoration-color: #00d7ff\">None</span>, <span style=\"color: #00af00; text-decoration-color: #00af00\">512</span>)                 │               <span style=\"color: #00af00; text-decoration-color: #00af00\">0</span> │\n│ (<span style=\"color: #0087ff; text-decoration-color: #0087ff\">GlobalAveragePooling2D</span>)             │                             │                 │\n├──────────────────────────────────────┼─────────────────────────────┼─────────────────┤\n│ dense (<span style=\"color: #0087ff; text-decoration-color: #0087ff\">Dense</span>)                        │ (<span style=\"color: #00d7ff; text-decoration-color: #00d7ff\">None</span>, <span style=\"color: #00af00; text-decoration-color: #00af00\">128</span>)                 │          <span style=\"color: #00af00; text-decoration-color: #00af00\">65,664</span> │\n├──────────────────────────────────────┼─────────────────────────────┼─────────────────┤\n│ dropout (<span style=\"color: #0087ff; text-decoration-color: #0087ff\">Dropout</span>)                    │ (<span style=\"color: #00d7ff; text-decoration-color: #00d7ff\">None</span>, <span style=\"color: #00af00; text-decoration-color: #00af00\">128</span>)                 │               <span style=\"color: #00af00; text-decoration-color: #00af00\">0</span> │\n├──────────────────────────────────────┼─────────────────────────────┼─────────────────┤\n│ dense_1 (<span style=\"color: #0087ff; text-decoration-color: #0087ff\">Dense</span>)                      │ (<span style=\"color: #00d7ff; text-decoration-color: #00d7ff\">None</span>, <span style=\"color: #00af00; text-decoration-color: #00af00\">6</span>)                   │             <span style=\"color: #00af00; text-decoration-color: #00af00\">774</span> │\n└──────────────────────────────────────┴─────────────────────────────┴─────────────────┘\n</pre>\n"
          },
          "metadata": {}
        },
        {
          "output_type": "display_data",
          "data": {
            "text/plain": "\u001b[1m Total params: \u001b[0m\u001b[38;5;34m14,781,126\u001b[0m (56.39 MB)\n",
            "text/html": "<pre style=\"white-space:pre;overflow-x:auto;line-height:normal;font-family:Menlo,'DejaVu Sans Mono',consolas,'Courier New',monospace\"><span style=\"font-weight: bold\"> Total params: </span><span style=\"color: #00af00; text-decoration-color: #00af00\">14,781,126</span> (56.39 MB)\n</pre>\n"
          },
          "metadata": {}
        },
        {
          "output_type": "display_data",
          "data": {
            "text/plain": "\u001b[1m Trainable params: \u001b[0m\u001b[38;5;34m66,438\u001b[0m (259.52 KB)\n",
            "text/html": "<pre style=\"white-space:pre;overflow-x:auto;line-height:normal;font-family:Menlo,'DejaVu Sans Mono',consolas,'Courier New',monospace\"><span style=\"font-weight: bold\"> Trainable params: </span><span style=\"color: #00af00; text-decoration-color: #00af00\">66,438</span> (259.52 KB)\n</pre>\n"
          },
          "metadata": {}
        },
        {
          "output_type": "display_data",
          "data": {
            "text/plain": "\u001b[1m Non-trainable params: \u001b[0m\u001b[38;5;34m14,714,688\u001b[0m (56.13 MB)\n",
            "text/html": "<pre style=\"white-space:pre;overflow-x:auto;line-height:normal;font-family:Menlo,'DejaVu Sans Mono',consolas,'Courier New',monospace\"><span style=\"font-weight: bold\"> Non-trainable params: </span><span style=\"color: #00af00; text-decoration-color: #00af00\">14,714,688</span> (56.13 MB)\n</pre>\n"
          },
          "metadata": {}
        }
      ],
      "execution_count": null
    },
    {
      "cell_type": "code",
      "source": [
        "import tensorflow as tf\n",
        "from tensorflow.keras import layers, models\n",
        "from tensorflow.keras.applications import VGG16\n",
        "from tensorflow.keras.preprocessing.image import ImageDataGenerator\n",
        "from sklearn.utils import class_weight\n",
        "import numpy as np\n",
        "from keras.callbacks import EarlyStopping\n",
        "from tensorflow.keras.callbacks import ReduceLROnPlateau\n",
        "\n",
        "#Compute class weights for handling imbalanced data y_train = train_df['label'].values class_weights = class_weight.compute_class_weight( class_weight='balanced', classes=np.unique(y_train), y=y_train ) class_weight_dict = {i: class_weights[i] for i in range(len(class_weights))}\n",
        "\n",
        "#Load the VGG16 model pre-trained on ImageNet, without the top layer (to modify for our problem)\n",
        "base_model = VGG16(weights='imagenet', include_top=False, input_shape=(224, 224, 3))\n",
        "\n",
        "#Freeze the layers of VGG16 to retain its learned features\n",
        "for layer in base_model.layers:\n",
        "    layer.trainable = False\n",
        "\n",
        "#Create the model by adding custom layers on top of VGG16\n",
        "model = models.Sequential()\n",
        "model.add(base_model)\n",
        "model.add(layers.GlobalAveragePooling2D())\n",
        "model.add(layers.Dense(128, activation='relu'))\n",
        "model.add(layers.Dropout(0.5))\n",
        "model.add(layers.Dense(6, activation='softmax')) # 6 classes (change as needed)\n",
        "model.summary()\n"
      ],
      "metadata": {
        "trusted": true,
        "execution": {
          "iopub.status.busy": "2025-04-07T08:38:51.025488Z",
          "iopub.execute_input": "2025-04-07T08:38:51.026166Z",
          "iopub.status.idle": "2025-04-07T08:38:54.376597Z",
          "shell.execute_reply.started": "2025-04-07T08:38:51.026136Z",
          "shell.execute_reply": "2025-04-07T08:38:54.375956Z"
        },
        "outputId": "5d6f79bd-289a-4a81-8ac8-41844ee56f96",
        "id": "l3z_XNse5BnL"
      },
      "outputs": [
        {
          "name": "stdout",
          "text": "Downloading data from https://storage.googleapis.com/tensorflow/keras-applications/vgg16/vgg16_weights_tf_dim_ordering_tf_kernels_notop.h5\n\u001b[1m58889256/58889256\u001b[0m \u001b[32m━━━━━━━━━━━━━━━━━━━━\u001b[0m\u001b[37m\u001b[0m \u001b[1m0s\u001b[0m 0us/step\n",
          "output_type": "stream"
        },
        {
          "output_type": "display_data",
          "data": {
            "text/plain": "\u001b[1mModel: \"sequential\"\u001b[0m\n",
            "text/html": "<pre style=\"white-space:pre;overflow-x:auto;line-height:normal;font-family:Menlo,'DejaVu Sans Mono',consolas,'Courier New',monospace\"><span style=\"font-weight: bold\">Model: \"sequential\"</span>\n</pre>\n"
          },
          "metadata": {}
        },
        {
          "output_type": "display_data",
          "data": {
            "text/plain": "┏━━━━━━━━━━━━━━━━━━━━━━━━━━━━━━━━━━━━━━┳━━━━━━━━━━━━━━━━━━━━━━━━━━━━━┳━━━━━━━━━━━━━━━━━┓\n┃\u001b[1m \u001b[0m\u001b[1mLayer (type)                        \u001b[0m\u001b[1m \u001b[0m┃\u001b[1m \u001b[0m\u001b[1mOutput Shape               \u001b[0m\u001b[1m \u001b[0m┃\u001b[1m \u001b[0m\u001b[1m        Param #\u001b[0m\u001b[1m \u001b[0m┃\n┡━━━━━━━━━━━━━━━━━━━━━━━━━━━━━━━━━━━━━━╇━━━━━━━━━━━━━━━━━━━━━━━━━━━━━╇━━━━━━━━━━━━━━━━━┩\n│ vgg16 (\u001b[38;5;33mFunctional\u001b[0m)                   │ (\u001b[38;5;45mNone\u001b[0m, \u001b[38;5;34m7\u001b[0m, \u001b[38;5;34m7\u001b[0m, \u001b[38;5;34m512\u001b[0m)           │      \u001b[38;5;34m14,714,688\u001b[0m │\n├──────────────────────────────────────┼─────────────────────────────┼─────────────────┤\n│ global_average_pooling2d             │ (\u001b[38;5;45mNone\u001b[0m, \u001b[38;5;34m512\u001b[0m)                 │               \u001b[38;5;34m0\u001b[0m │\n│ (\u001b[38;5;33mGlobalAveragePooling2D\u001b[0m)             │                             │                 │\n├──────────────────────────────────────┼─────────────────────────────┼─────────────────┤\n│ dense (\u001b[38;5;33mDense\u001b[0m)                        │ (\u001b[38;5;45mNone\u001b[0m, \u001b[38;5;34m128\u001b[0m)                 │          \u001b[38;5;34m65,664\u001b[0m │\n├──────────────────────────────────────┼─────────────────────────────┼─────────────────┤\n│ dropout (\u001b[38;5;33mDropout\u001b[0m)                    │ (\u001b[38;5;45mNone\u001b[0m, \u001b[38;5;34m128\u001b[0m)                 │               \u001b[38;5;34m0\u001b[0m │\n├──────────────────────────────────────┼─────────────────────────────┼─────────────────┤\n│ dense_1 (\u001b[38;5;33mDense\u001b[0m)                      │ (\u001b[38;5;45mNone\u001b[0m, \u001b[38;5;34m6\u001b[0m)                   │             \u001b[38;5;34m774\u001b[0m │\n└──────────────────────────────────────┴─────────────────────────────┴─────────────────┘\n",
            "text/html": "<pre style=\"white-space:pre;overflow-x:auto;line-height:normal;font-family:Menlo,'DejaVu Sans Mono',consolas,'Courier New',monospace\">┏━━━━━━━━━━━━━━━━━━━━━━━━━━━━━━━━━━━━━━┳━━━━━━━━━━━━━━━━━━━━━━━━━━━━━┳━━━━━━━━━━━━━━━━━┓\n┃<span style=\"font-weight: bold\"> Layer (type)                         </span>┃<span style=\"font-weight: bold\"> Output Shape                </span>┃<span style=\"font-weight: bold\">         Param # </span>┃\n┡━━━━━━━━━━━━━━━━━━━━━━━━━━━━━━━━━━━━━━╇━━━━━━━━━━━━━━━━━━━━━━━━━━━━━╇━━━━━━━━━━━━━━━━━┩\n│ vgg16 (<span style=\"color: #0087ff; text-decoration-color: #0087ff\">Functional</span>)                   │ (<span style=\"color: #00d7ff; text-decoration-color: #00d7ff\">None</span>, <span style=\"color: #00af00; text-decoration-color: #00af00\">7</span>, <span style=\"color: #00af00; text-decoration-color: #00af00\">7</span>, <span style=\"color: #00af00; text-decoration-color: #00af00\">512</span>)           │      <span style=\"color: #00af00; text-decoration-color: #00af00\">14,714,688</span> │\n├──────────────────────────────────────┼─────────────────────────────┼─────────────────┤\n│ global_average_pooling2d             │ (<span style=\"color: #00d7ff; text-decoration-color: #00d7ff\">None</span>, <span style=\"color: #00af00; text-decoration-color: #00af00\">512</span>)                 │               <span style=\"color: #00af00; text-decoration-color: #00af00\">0</span> │\n│ (<span style=\"color: #0087ff; text-decoration-color: #0087ff\">GlobalAveragePooling2D</span>)             │                             │                 │\n├──────────────────────────────────────┼─────────────────────────────┼─────────────────┤\n│ dense (<span style=\"color: #0087ff; text-decoration-color: #0087ff\">Dense</span>)                        │ (<span style=\"color: #00d7ff; text-decoration-color: #00d7ff\">None</span>, <span style=\"color: #00af00; text-decoration-color: #00af00\">128</span>)                 │          <span style=\"color: #00af00; text-decoration-color: #00af00\">65,664</span> │\n├──────────────────────────────────────┼─────────────────────────────┼─────────────────┤\n│ dropout (<span style=\"color: #0087ff; text-decoration-color: #0087ff\">Dropout</span>)                    │ (<span style=\"color: #00d7ff; text-decoration-color: #00d7ff\">None</span>, <span style=\"color: #00af00; text-decoration-color: #00af00\">128</span>)                 │               <span style=\"color: #00af00; text-decoration-color: #00af00\">0</span> │\n├──────────────────────────────────────┼─────────────────────────────┼─────────────────┤\n│ dense_1 (<span style=\"color: #0087ff; text-decoration-color: #0087ff\">Dense</span>)                      │ (<span style=\"color: #00d7ff; text-decoration-color: #00d7ff\">None</span>, <span style=\"color: #00af00; text-decoration-color: #00af00\">6</span>)                   │             <span style=\"color: #00af00; text-decoration-color: #00af00\">774</span> │\n└──────────────────────────────────────┴─────────────────────────────┴─────────────────┘\n</pre>\n"
          },
          "metadata": {}
        },
        {
          "output_type": "display_data",
          "data": {
            "text/plain": "\u001b[1m Total params: \u001b[0m\u001b[38;5;34m14,781,126\u001b[0m (56.39 MB)\n",
            "text/html": "<pre style=\"white-space:pre;overflow-x:auto;line-height:normal;font-family:Menlo,'DejaVu Sans Mono',consolas,'Courier New',monospace\"><span style=\"font-weight: bold\"> Total params: </span><span style=\"color: #00af00; text-decoration-color: #00af00\">14,781,126</span> (56.39 MB)\n</pre>\n"
          },
          "metadata": {}
        },
        {
          "output_type": "display_data",
          "data": {
            "text/plain": "\u001b[1m Trainable params: \u001b[0m\u001b[38;5;34m66,438\u001b[0m (259.52 KB)\n",
            "text/html": "<pre style=\"white-space:pre;overflow-x:auto;line-height:normal;font-family:Menlo,'DejaVu Sans Mono',consolas,'Courier New',monospace\"><span style=\"font-weight: bold\"> Trainable params: </span><span style=\"color: #00af00; text-decoration-color: #00af00\">66,438</span> (259.52 KB)\n</pre>\n"
          },
          "metadata": {}
        },
        {
          "output_type": "display_data",
          "data": {
            "text/plain": "\u001b[1m Non-trainable params: \u001b[0m\u001b[38;5;34m14,714,688\u001b[0m (56.13 MB)\n",
            "text/html": "<pre style=\"white-space:pre;overflow-x:auto;line-height:normal;font-family:Menlo,'DejaVu Sans Mono',consolas,'Courier New',monospace\"><span style=\"font-weight: bold\"> Non-trainable params: </span><span style=\"color: #00af00; text-decoration-color: #00af00\">14,714,688</span> (56.13 MB)\n</pre>\n"
          },
          "metadata": {}
        }
      ],
      "execution_count": null
    },
    {
      "cell_type": "code",
      "source": [
        "# Compute class weights for handling imbalanced data\n",
        "y_train = train_df['label'].values\n",
        "class_weights = class_weight.compute_class_weight(\n",
        "    class_weight='balanced',\n",
        "    classes=np.unique(y_train),\n",
        "    y=y_train\n",
        ")\n",
        "class_weight_dict = {cls:weight for cls, weight in zip(np.unique(y_train),class_weights)}"
      ],
      "metadata": {
        "trusted": true,
        "execution": {
          "iopub.status.busy": "2025-04-07T08:39:19.558075Z",
          "iopub.execute_input": "2025-04-07T08:39:19.558359Z",
          "iopub.status.idle": "2025-04-07T08:39:19.642176Z",
          "shell.execute_reply.started": "2025-04-07T08:39:19.558338Z",
          "shell.execute_reply": "2025-04-07T08:39:19.641488Z"
        },
        "id": "-XLAH8jl4RHl"
      },
      "outputs": [],
      "execution_count": null
    },
    {
      "cell_type": "code",
      "source": [
        "#Compile the model\n",
        "model.compile(optimizer='adam', loss='categorical_crossentropy', metrics=['accuracy','recall'])"
      ],
      "metadata": {
        "trusted": true,
        "execution": {
          "iopub.status.busy": "2025-04-07T08:39:28.388771Z",
          "iopub.execute_input": "2025-04-07T08:39:28.389128Z",
          "iopub.status.idle": "2025-04-07T08:39:28.403470Z",
          "shell.execute_reply.started": "2025-04-07T08:39:28.389092Z",
          "shell.execute_reply": "2025-04-07T08:39:28.402536Z"
        },
        "id": "R2A_RPmU4RHn"
      },
      "outputs": [],
      "execution_count": null
    },
    {
      "cell_type": "code",
      "source": [
        "history = model.fit(train_generator,\n",
        "                    epochs=15, validation_data=val_generator,\n",
        "                    callbacks=[early_stopping,reduce_lr,checkpoint],\n",
        "                       class_weight=class_weight_dict)"
      ],
      "metadata": {
        "trusted": true,
        "execution": {
          "iopub.status.busy": "2025-04-07T08:39:37.842755Z",
          "iopub.execute_input": "2025-04-07T08:39:37.843091Z",
          "iopub.status.idle": "2025-04-07T10:14:25.177539Z",
          "shell.execute_reply.started": "2025-04-07T08:39:37.843064Z",
          "shell.execute_reply": "2025-04-07T10:14:25.176826Z"
        },
        "id": "czflpgXR4RHq",
        "outputId": "bef51622-e243-4fd4-9281-d33f3965e369"
      },
      "outputs": [
        {
          "name": "stdout",
          "text": "Epoch 1/15\n",
          "output_type": "stream"
        },
        {
          "name": "stderr",
          "text": "/usr/local/lib/python3.10/dist-packages/keras/src/trainers/data_adapters/py_dataset_adapter.py:122: UserWarning: Your `PyDataset` class should call `super().__init__(**kwargs)` in its constructor. `**kwargs` can include `workers`, `use_multiprocessing`, `max_queue_size`. Do not pass these arguments to `fit()`, as they will be ignored.\n  self._warn_if_super_not_called()\n",
          "output_type": "stream"
        },
        {
          "name": "stdout",
          "text": "\u001b[1m2480/2480\u001b[0m \u001b[32m━━━━━━━━━━━━━━━━━━━━\u001b[0m\u001b[37m\u001b[0m \u001b[1m0s\u001b[0m 191ms/step - accuracy: 0.9107 - loss: 0.2967 - recall: 0.8832\nEpoch 1: val_accuracy improved from -inf to 0.99904, saving model to CovidModelEfficientNet.keras\n\u001b[1m2480/2480\u001b[0m \u001b[32m━━━━━━━━━━━━━━━━━━━━\u001b[0m\u001b[37m\u001b[0m \u001b[1m608s\u001b[0m 239ms/step - accuracy: 0.9107 - loss: 0.2966 - recall: 0.8832 - val_accuracy: 0.9990 - val_loss: 0.0088 - val_recall: 0.9988 - learning_rate: 0.0010\nEpoch 2/15\n\u001b[1m2480/2480\u001b[0m \u001b[32m━━━━━━━━━━━━━━━━━━━━\u001b[0m\u001b[37m\u001b[0m \u001b[1m0s\u001b[0m 135ms/step - accuracy: 0.9974 - loss: 0.0147 - recall: 0.9965\nEpoch 2: val_accuracy improved from 0.99904 to 0.99985, saving model to CovidModelEfficientNet.keras\n\u001b[1m2480/2480\u001b[0m \u001b[32m━━━━━━━━━━━━━━━━━━━━\u001b[0m\u001b[37m\u001b[0m \u001b[1m419s\u001b[0m 169ms/step - accuracy: 0.9974 - loss: 0.0147 - recall: 0.9965 - val_accuracy: 0.9998 - val_loss: 0.0013 - val_recall: 0.9998 - learning_rate: 0.0010\nEpoch 3/15\n\u001b[1m2480/2480\u001b[0m \u001b[32m━━━━━━━━━━━━━━━━━━━━\u001b[0m\u001b[37m\u001b[0m \u001b[1m0s\u001b[0m 135ms/step - accuracy: 0.9989 - loss: 0.0061 - recall: 0.9988\nEpoch 3: ReduceLROnPlateau reducing learning rate to 0.0003000000142492354.\n\nEpoch 3: val_accuracy improved from 0.99985 to 0.99995, saving model to CovidModelEfficientNet.keras\n\u001b[1m2480/2480\u001b[0m \u001b[32m━━━━━━━━━━━━━━━━━━━━\u001b[0m\u001b[37m\u001b[0m \u001b[1m419s\u001b[0m 169ms/step - accuracy: 0.9989 - loss: 0.0061 - recall: 0.9988 - val_accuracy: 0.9999 - val_loss: 3.6368e-04 - val_recall: 0.9999 - learning_rate: 0.0010\nEpoch 4/15\n\u001b[1m2480/2480\u001b[0m \u001b[32m━━━━━━━━━━━━━━━━━━━━\u001b[0m\u001b[37m\u001b[0m \u001b[1m0s\u001b[0m 134ms/step - accuracy: 0.9996 - loss: 0.0023 - recall: 0.9995\nEpoch 4: val_accuracy improved from 0.99995 to 1.00000, saving model to CovidModelEfficientNet.keras\n\u001b[1m2480/2480\u001b[0m \u001b[32m━━━━━━━━━━━━━━━━━━━━\u001b[0m\u001b[37m\u001b[0m \u001b[1m417s\u001b[0m 168ms/step - accuracy: 0.9996 - loss: 0.0023 - recall: 0.9995 - val_accuracy: 1.0000 - val_loss: 2.8098e-04 - val_recall: 0.9999 - learning_rate: 3.0000e-04\nEpoch 5/15\n\u001b[1m2480/2480\u001b[0m \u001b[32m━━━━━━━━━━━━━━━━━━━━\u001b[0m\u001b[37m\u001b[0m \u001b[1m0s\u001b[0m 134ms/step - accuracy: 0.9997 - loss: 0.0021 - recall: 0.9996\nEpoch 5: ReduceLROnPlateau reducing learning rate to 9.000000427477062e-05.\n\nEpoch 5: val_accuracy did not improve from 1.00000\n\u001b[1m2480/2480\u001b[0m \u001b[32m━━━━━━━━━━━━━━━━━━━━\u001b[0m\u001b[37m\u001b[0m \u001b[1m417s\u001b[0m 168ms/step - accuracy: 0.9997 - loss: 0.0021 - recall: 0.9996 - val_accuracy: 1.0000 - val_loss: 2.0372e-04 - val_recall: 0.9999 - learning_rate: 3.0000e-04\nEpoch 6/15\n\u001b[1m2480/2480\u001b[0m \u001b[32m━━━━━━━━━━━━━━━━━━━━\u001b[0m\u001b[37m\u001b[0m \u001b[1m0s\u001b[0m 134ms/step - accuracy: 0.9997 - loss: 0.0016 - recall: 0.9997\nEpoch 6: val_accuracy did not improve from 1.00000\n\u001b[1m2480/2480\u001b[0m \u001b[32m━━━━━━━━━━━━━━━━━━━━\u001b[0m\u001b[37m\u001b[0m \u001b[1m417s\u001b[0m 168ms/step - accuracy: 0.9997 - loss: 0.0016 - recall: 0.9997 - val_accuracy: 1.0000 - val_loss: 1.5201e-04 - val_recall: 0.9999 - learning_rate: 9.0000e-05\nEpoch 7/15\n\u001b[1m2480/2480\u001b[0m \u001b[32m━━━━━━━━━━━━━━━━━━━━\u001b[0m\u001b[37m\u001b[0m \u001b[1m0s\u001b[0m 135ms/step - accuracy: 0.9997 - loss: 0.0015 - recall: 0.9997\nEpoch 7: ReduceLROnPlateau reducing learning rate to 2.700000040931627e-05.\n\nEpoch 7: val_accuracy did not improve from 1.00000\n\u001b[1m2480/2480\u001b[0m \u001b[32m━━━━━━━━━━━━━━━━━━━━\u001b[0m\u001b[37m\u001b[0m \u001b[1m419s\u001b[0m 169ms/step - accuracy: 0.9997 - loss: 0.0015 - recall: 0.9997 - val_accuracy: 1.0000 - val_loss: 1.6684e-04 - val_recall: 1.0000 - learning_rate: 9.0000e-05\nEpoch 8/15\n\u001b[1m2480/2480\u001b[0m \u001b[32m━━━━━━━━━━━━━━━━━━━━\u001b[0m\u001b[37m\u001b[0m \u001b[1m0s\u001b[0m 135ms/step - accuracy: 0.9999 - loss: 9.9926e-04 - recall: 0.9999\nEpoch 8: val_accuracy did not improve from 1.00000\n\u001b[1m2480/2480\u001b[0m \u001b[32m━━━━━━━━━━━━━━━━━━━━\u001b[0m\u001b[37m\u001b[0m \u001b[1m421s\u001b[0m 169ms/step - accuracy: 0.9999 - loss: 9.9935e-04 - recall: 0.9999 - val_accuracy: 1.0000 - val_loss: 1.2682e-04 - val_recall: 1.0000 - learning_rate: 2.7000e-05\nEpoch 9/15\n\u001b[1m2480/2480\u001b[0m \u001b[32m━━━━━━━━━━━━━━━━━━━━\u001b[0m\u001b[37m\u001b[0m \u001b[1m0s\u001b[0m 138ms/step - accuracy: 0.9998 - loss: 0.0012 - recall: 0.9997\nEpoch 9: ReduceLROnPlateau reducing learning rate to 8.100000013655517e-06.\n\nEpoch 9: val_accuracy did not improve from 1.00000\n\u001b[1m2480/2480\u001b[0m \u001b[32m━━━━━━━━━━━━━━━━━━━━\u001b[0m\u001b[37m\u001b[0m \u001b[1m428s\u001b[0m 172ms/step - accuracy: 0.9998 - loss: 0.0012 - recall: 0.9997 - val_accuracy: 1.0000 - val_loss: 1.2356e-04 - val_recall: 1.0000 - learning_rate: 2.7000e-05\nEpoch 10/15\n\u001b[1m2480/2480\u001b[0m \u001b[32m━━━━━━━━━━━━━━━━━━━━\u001b[0m\u001b[37m\u001b[0m \u001b[1m0s\u001b[0m 138ms/step - accuracy: 0.9999 - loss: 0.0010 - recall: 0.9999\nEpoch 10: val_accuracy did not improve from 1.00000\n\u001b[1m2480/2480\u001b[0m \u001b[32m━━━━━━━━━━━━━━━━━━━━\u001b[0m\u001b[37m\u001b[0m \u001b[1m428s\u001b[0m 172ms/step - accuracy: 0.9999 - loss: 0.0010 - recall: 0.9999 - val_accuracy: 1.0000 - val_loss: 1.2446e-04 - val_recall: 1.0000 - learning_rate: 8.1000e-06\nEpoch 11/15\n\u001b[1m2480/2480\u001b[0m \u001b[32m━━━━━━━━━━━━━━━━━━━━\u001b[0m\u001b[37m\u001b[0m \u001b[1m0s\u001b[0m 138ms/step - accuracy: 0.9999 - loss: 0.0010 - recall: 0.9999\nEpoch 11: ReduceLROnPlateau reducing learning rate to 2.429999949526973e-06.\n\nEpoch 11: val_accuracy did not improve from 1.00000\n\u001b[1m2480/2480\u001b[0m \u001b[32m━━━━━━━━━━━━━━━━━━━━\u001b[0m\u001b[37m\u001b[0m \u001b[1m429s\u001b[0m 173ms/step - accuracy: 0.9999 - loss: 0.0010 - recall: 0.9999 - val_accuracy: 1.0000 - val_loss: 1.2448e-04 - val_recall: 1.0000 - learning_rate: 8.1000e-06\nEpoch 12/15\n\u001b[1m2480/2480\u001b[0m \u001b[32m━━━━━━━━━━━━━━━━━━━━\u001b[0m\u001b[37m\u001b[0m \u001b[1m0s\u001b[0m 139ms/step - accuracy: 0.9999 - loss: 0.0011 - recall: 0.9999\nEpoch 12: val_accuracy did not improve from 1.00000\n\u001b[1m2480/2480\u001b[0m \u001b[32m━━━━━━━━━━━━━━━━━━━━\u001b[0m\u001b[37m\u001b[0m \u001b[1m434s\u001b[0m 174ms/step - accuracy: 0.9999 - loss: 0.0011 - recall: 0.9999 - val_accuracy: 1.0000 - val_loss: 1.2317e-04 - val_recall: 1.0000 - learning_rate: 2.4300e-06\nEpoch 13/15\n\u001b[1m2480/2480\u001b[0m \u001b[32m━━━━━━━━━━━━━━━━━━━━\u001b[0m\u001b[37m\u001b[0m \u001b[1m0s\u001b[0m 138ms/step - accuracy: 0.9997 - loss: 0.0012 - recall: 0.9997\nEpoch 13: ReduceLROnPlateau reducing learning rate to 7.289999985005124e-07.\n\nEpoch 13: val_accuracy did not improve from 1.00000\n\u001b[1m2480/2480\u001b[0m \u001b[32m━━━━━━━━━━━━━━━━━━━━\u001b[0m\u001b[37m\u001b[0m \u001b[1m429s\u001b[0m 173ms/step - accuracy: 0.9997 - loss: 0.0012 - recall: 0.9997 - val_accuracy: 1.0000 - val_loss: 1.2365e-04 - val_recall: 1.0000 - learning_rate: 2.4300e-06\n",
          "output_type": "stream"
        }
      ],
      "execution_count": null
    },
    {
      "cell_type": "code",
      "source": [],
      "metadata": {
        "id": "A107zlk_5x6o"
      },
      "execution_count": null,
      "outputs": []
    },
    {
      "cell_type": "code",
      "source": [
        "#  evaluate the model\n",
        "\n",
        "import matplotlib.pyplot as plt\n",
        "# Evaluate the model on the test set\n",
        "loss, accuracy, recall = model.evaluate(test_generator)\n",
        "\n",
        "print(f\"Test Loss: {loss}\")\n",
        "print(f\"Test Accuracy: {accuracy}\")\n",
        "print(f\"Test Recall: {recall}\")\n",
        "\n",
        "# Plot the training history\n",
        "acc = history.history['accuracy']\n",
        "val_acc = history.history['val_accuracy']\n",
        "loss = history.history['loss']\n",
        "val_loss = history.history['val_loss']\n",
        "epochs = range(len(acc))\n",
        "\n",
        "plt.plot(epochs, acc, 'b', label='Training accuracy')\n",
        "plt.plot(epochs, val_acc, 'r', label='Validation accuracy')\n",
        "plt.title('Training and validation accuracy')\n",
        "plt.legend()\n",
        "\n",
        "plt.figure()\n",
        "\n",
        "plt.plot(epochs, loss, 'b', label='Training loss')\n",
        "plt.plot(epochs, val_loss, 'r', label='Validation loss')\n",
        "plt.title('Training and validation loss')\n",
        "plt.legend()\n",
        "\n",
        "plt.show()\n"
      ],
      "metadata": {
        "trusted": true,
        "execution": {
          "iopub.status.busy": "2025-04-07T10:17:54.916729Z",
          "iopub.execute_input": "2025-04-07T10:17:54.917085Z",
          "iopub.status.idle": "2025-04-07T10:21:22.004393Z",
          "shell.execute_reply.started": "2025-04-07T10:17:54.917051Z",
          "shell.execute_reply": "2025-04-07T10:21:22.003619Z"
        },
        "id": "5z9glJ0t4RHx",
        "outputId": "6cd68de1-f443-4604-933c-a1789e6e0ef6"
      },
      "outputs": [
        {
          "name": "stdout",
          "text": "\u001b[1m775/775\u001b[0m \u001b[32m━━━━━━━━━━━━━━━━━━━━\u001b[0m\u001b[37m\u001b[0m \u001b[1m206s\u001b[0m 266ms/step - accuracy: 0.9999 - loss: 1.8316e-04 - recall: 0.9999\nTest Loss: 0.00024904432939365506\nTest Accuracy: 0.9999193549156189\nTest Recall: 0.9999193549156189\n",
          "output_type": "stream"
        },
        {
          "output_type": "display_data",
          "data": {
            "text/plain": "<Figure size 640x480 with 1 Axes>",
            "image/png": "[encoded data removed]"
          },
          "metadata": {}
        },
        {
          "output_type": "display_data",
          "data": {
            "text/plain": "<Figure size 640x480 with 1 Axes>",
            "image/png": "[encoded data removed]"
          },
          "metadata": {}
        }
      ],
      "execution_count": null
    },
    {
      "cell_type": "code",
      "source": [
        "from sklearn.metrics import classification_report\n",
        "\n",
        "# Predict on the test set\n",
        "\n",
        "y_pred = model.predict(test_generator)\n",
        "y_pred_classes = np.argmax(y_pred, axis=1)\n",
        "\n",
        "# Get true labels\n",
        "y_true = test_generator.classes\n",
        "\n",
        "# Print classification report\n",
        "print(classification_report(y_true, y_pred_classes, target_names=test_generator.class_indices.keys()))"
      ],
      "metadata": {
        "trusted": true,
        "id": "ZLuO48tP4RHz"
      },
      "outputs": [],
      "execution_count": null
    },
    {
      "cell_type": "markdown",
      "source": [
        "The initial classification report revealed poor performance\n",
        "\n",
        ",with accuracy,precision, and recall falling below 50% for all classes except the majority class, suggesting significant overfitting.\n",
        "\n",
        "\n",
        " To address this, I plan to revise my approach by applying downsampling to the majority class and undersampling the remaining classes.\"\n"
      ],
      "metadata": {
        "id": "-XSUMkCI72eR"
      }
    },
    {
      "cell_type": "markdown",
      "source": [
        "At the beginning, the model showed a high accuracy of 95% on the training set and only 5% on the validation set during the first two epochs, which was a clear sign of overfitting.\n",
        "\n",
        " In response, I reduced the number of layers in the model, increased the dropout layers to prevent overfitting, added a BatchNormalization layer to improve generalization, and applied data augmentation techniques to enhance the model's robustness.\"\n"
      ],
      "metadata": {
        "id": "JriyLIkl-QpL"
      }
    },
    {
      "cell_type": "code",
      "source": [
        "from sklearn.utils import resample\n",
        "import numpy as np\n",
        "import pandas as pd\n",
        "from tensorflow.keras.preprocessing.image import ImageDataGenerator\n",
        "\n",
        "# Load train_df and test_df (assuming you have them from before)\n",
        "from sklearn.model_selection import train_test_split\n",
        "\n",
        "# Split the data into training and validation sets\n",
        "train_df,val_df = train_test_split(train_df,test_size=0.2,random_state=42,stratify=train_df['label'])\n",
        "# 1. Under-sample the N class to 8000\n",
        "n_class = train_df[train_df['label'] == 'N']\n",
        "other_classes = train_df[train_df['label'] != 'N']\n",
        "\n",
        "n_class_undersampled = resample(n_class,\n",
        "                                replace=False,  # Don't allow replacement\n",
        "                                n_samples=8000,  # Downsample to 8000\n",
        "                                random_state=42)\n",
        "# 2. Over-sample other classes to 8000 (for balancing)\n",
        "oversampled_classes = []\n",
        "for label in other_classes['label'].unique():\n",
        "    class_data = other_classes[other_classes['label'] == label]\n",
        "    class_data_oversampled = resample(class_data,\n",
        "                                      replace=True,  # Allow replacement for oversampling\n",
        "                                      n_samples=8000,  # Up-sample to 8000\n",
        "                                      random_state=42)\n",
        "    oversampled_classes.append(class_data_oversampled)\n",
        "\n",
        "# 3. Combine all classes (undersampled N and oversampled others)\n",
        "balanced_train_df = pd.concat([n_class_undersampled] + oversampled_classes)\n",
        "\n",
        "# Shuffle the combined data\n",
        "balanced_train_df = balanced_train_df.sample(frac=1, random_state=42).reset_index(drop=True)\n",
        "\n",
        "# Now create the ImageDataGenerators for train, validation, and test\n",
        "train_datagen = ImageDataGenerator(rescale=1./255,\n",
        "                                   rotation_range = 40,\n",
        "                                   width_shift_range =0.2,\n",
        "                                   height_shift_range = 0.2,\n",
        "                                   shear_range =0.2,\n",
        "                                   zoom_range = 0.1,\n",
        "                                   horizontal_flip = True,\n",
        "                            fill_mode = 'nearest'\n",
        "                              )\n",
        "\n",
        "test_datagen = ImageDataGenerator(rescale=1./255)\n",
        "\n",
        "train_generator = train_datagen.flow_from_dataframe(  balanced_train_df,\n",
        "    x_col='image_path',\n",
        "    y_col='label',\n",
        "    target_size=(224, 224),\n",
        "    batch_size=32,\n",
        "    class_mode='categorical',\n",
        "    shuffle=True\n",
        ")\n",
        "val_generator = test_datagen.flow_from_dataframe(\n",
        "    val_df,\n",
        "    x_col='image_path',\n",
        "    y_col='label',\n",
        "    target_size=(224, 224),\n",
        "    batch_size=32,\n",
        "    class_mode='categorical',\n",
        ")\n",
        "\n",
        "\n",
        "test_generator = test_datagen.flow_from_dataframe(\n",
        "    test_df,\n",
        "    x_col='image_path',\n",
        "    y_col='label',\n",
        "    target_size=(224, 224),\n",
        "    batch_size=32,\n",
        "    class_mode='categorical',shuffle =False\n",
        ")\n"
      ],
      "metadata": {
        "trusted": true,
        "execution": {
          "iopub.status.busy": "2025-04-07T14:11:54.720420Z",
          "iopub.execute_input": "2025-04-07T14:11:54.720747Z",
          "iopub.status.idle": "2025-04-07T14:15:21.091648Z",
          "shell.execute_reply.started": "2025-04-07T14:11:54.720724Z",
          "shell.execute_reply": "2025-04-07T14:15:21.090924Z"
        },
        "jupyter": {
          "source_hidden": true
        },
        "id": "G13PRlhl4RH2",
        "outputId": "5b1e0324-cbc9-4b24-a908-2e726c6ea7db"
      },
      "outputs": [
        {
          "name": "stdout",
          "text": "Found 48000 validated image filenames belonging to 6 classes.\nFound 19840 validated image filenames belonging to 6 classes.\nFound 24799 validated image filenames belonging to 6 classes.\n",
          "output_type": "stream"
        }
      ],
      "execution_count": null
    },
    {
      "cell_type": "code",
      "source": [
        "from tensorflow.keras import layers, models\n",
        "from tensorflow.keras.applications import VGG16\n",
        "from tensorflow.keras.callbacks import EarlyStopping, ReduceLROnPlateau, ModelCheckpoint\n",
        "from tensorflow.keras.optimizers import Adam\n",
        "from tensorflow.keras import regularizers\n",
        "\n",
        "# Load the VGG16 model pre-trained on ImageNet, without the top layer (to modify for our problem)\n",
        "base_model = VGG16(weights='imagenet', include_top=False, input_shape=(224, 224, 3))\n",
        "\n",
        "# Unfreeze some of the top layers of the base model\n",
        "for layer in base_model.layers[-4:]:\n",
        "    layer.trainable = True\n",
        "\n",
        "# Create the model by adding custom layers on top of VGG16\n",
        "model = models.Sequential()\n",
        "model.add(base_model)\n",
        "model.add(layers.GlobalAveragePooling2D())\n",
        "model.add(layers.BatchNormalization())  # Add BatchNormalization layer\n",
        "model.add(layers.Dense(32, activation='relu',kernel_regularizer=regularizers.l2(0.01)))\n",
        "\n",
        "model.add(layers.Dropout(0.6))  # Dropout layer for regularization\n",
        "#model.add(layers.Dense(64, activation='relu'))  # Additional Dense layer\n",
        "#model.add(layers.Dropout(0.3))  # Another Dropout layer\n",
        "model.add(layers.Dense(6, activation='softmax'))  # 6 classes (update if needed)\n",
        "model.summary()\n",
        "\n",
        "# Callbacks\n",
        "early_stopping = EarlyStopping(monitor='val_loss', patience=3, restore_best_weights=True)\n",
        "reduce_lr = ReduceLROnPlateau(monitor='val_loss', factor=0.5, patience=2, min_lr=1e-6, verbose=1)\n",
        "checkpoint = ModelCheckpoint('best_model.keras', monitor='val_accuracy', save_best_only=True, mode='max', verbose=1)\n",
        "optimizer=Adam(learning_rate =0.00001)\n",
        "# Compile the model\n",
        "model.compile(optimizer =optimizer, loss='categorical_crossentropy', metrics=['accuracy', 'recall'])\n",
        "\n",
        "# Train the model\n",
        "history = model.fit(\n",
        "    train_generator,\n",
        "    epochs=10,\n",
        "    validation_data=val_generator,\n",
        "    callbacks=[early_stopping, reduce_lr, checkpoint]\n",
        ")\n"
      ],
      "metadata": {
        "trusted": true,
        "execution": {
          "iopub.status.busy": "2025-04-07T14:15:51.675644Z",
          "iopub.execute_input": "2025-04-07T14:15:51.676242Z",
          "iopub.status.idle": "2025-04-07T16:40:11.860043Z",
          "shell.execute_reply.started": "2025-04-07T14:15:51.676215Z",
          "shell.execute_reply": "2025-04-07T16:40:11.859009Z"
        },
        "id": "oqnocZrx4RH5",
        "outputId": "3b1b01dd-c4a9-44b0-baa7-82a27a930f39"
      },
      "outputs": [
        {
          "name": "stdout",
          "text": "Downloading data from https://storage.googleapis.com/tensorflow/keras-applications/vgg16/vgg16_weights_tf_dim_ordering_tf_kernels_notop.h5\n\u001b[1m58889256/58889256\u001b[0m \u001b[32m━━━━━━━━━━━━━━━━━━━━\u001b[0m\u001b[37m\u001b[0m \u001b[1m0s\u001b[0m 0us/step\n",
          "output_type": "stream"
        },
        {
          "output_type": "display_data",
          "data": {
            "text/plain": "\u001b[1mModel: \"sequential\"\u001b[0m\n",
            "text/html": "<pre style=\"white-space:pre;overflow-x:auto;line-height:normal;font-family:Menlo,'DejaVu Sans Mono',consolas,'Courier New',monospace\"><span style=\"font-weight: bold\">Model: \"sequential\"</span>\n</pre>\n"
          },
          "metadata": {}
        },
        {
          "output_type": "display_data",
          "data": {
            "text/plain": "┏━━━━━━━━━━━━━━━━━━━━━━━━━━━━━━━━━━━━━━┳━━━━━━━━━━━━━━━━━━━━━━━━━━━━━┳━━━━━━━━━━━━━━━━━┓\n┃\u001b[1m \u001b[0m\u001b[1mLayer (type)                        \u001b[0m\u001b[1m \u001b[0m┃\u001b[1m \u001b[0m\u001b[1mOutput Shape               \u001b[0m\u001b[1m \u001b[0m┃\u001b[1m \u001b[0m\u001b[1m        Param #\u001b[0m\u001b[1m \u001b[0m┃\n┡━━━━━━━━━━━━━━━━━━━━━━━━━━━━━━━━━━━━━━╇━━━━━━━━━━━━━━━━━━━━━━━━━━━━━╇━━━━━━━━━━━━━━━━━┩\n│ vgg16 (\u001b[38;5;33mFunctional\u001b[0m)                   │ (\u001b[38;5;45mNone\u001b[0m, \u001b[38;5;34m7\u001b[0m, \u001b[38;5;34m7\u001b[0m, \u001b[38;5;34m512\u001b[0m)           │      \u001b[38;5;34m14,714,688\u001b[0m │\n├──────────────────────────────────────┼─────────────────────────────┼─────────────────┤\n│ global_average_pooling2d             │ (\u001b[38;5;45mNone\u001b[0m, \u001b[38;5;34m512\u001b[0m)                 │               \u001b[38;5;34m0\u001b[0m │\n│ (\u001b[38;5;33mGlobalAveragePooling2D\u001b[0m)             │                             │                 │\n├──────────────────────────────────────┼─────────────────────────────┼─────────────────┤\n│ batch_normalization                  │ (\u001b[38;5;45mNone\u001b[0m, \u001b[38;5;34m512\u001b[0m)                 │           \u001b[38;5;34m2,048\u001b[0m │\n│ (\u001b[38;5;33mBatchNormalization\u001b[0m)                 │                             │                 │\n├──────────────────────────────────────┼─────────────────────────────┼─────────────────┤\n│ dense (\u001b[38;5;33mDense\u001b[0m)                        │ (\u001b[38;5;45mNone\u001b[0m, \u001b[38;5;34m64\u001b[0m)                  │          \u001b[38;5;34m32,832\u001b[0m │\n├──────────────────────────────────────┼─────────────────────────────┼─────────────────┤\n│ dropout (\u001b[38;5;33mDropout\u001b[0m)                    │ (\u001b[38;5;45mNone\u001b[0m, \u001b[38;5;34m64\u001b[0m)                  │               \u001b[38;5;34m0\u001b[0m │\n├──────────────────────────────────────┼─────────────────────────────┼─────────────────┤\n│ dense_1 (\u001b[38;5;33mDense\u001b[0m)                      │ (\u001b[38;5;45mNone\u001b[0m, \u001b[38;5;34m6\u001b[0m)                   │             \u001b[38;5;34m390\u001b[0m │\n└──────────────────────────────────────┴─────────────────────────────┴─────────────────┘\n",
            "text/html": "<pre style=\"white-space:pre;overflow-x:auto;line-height:normal;font-family:Menlo,'DejaVu Sans Mono',consolas,'Courier New',monospace\">┏━━━━━━━━━━━━━━━━━━━━━━━━━━━━━━━━━━━━━━┳━━━━━━━━━━━━━━━━━━━━━━━━━━━━━┳━━━━━━━━━━━━━━━━━┓\n┃<span style=\"font-weight: bold\"> Layer (type)                         </span>┃<span style=\"font-weight: bold\"> Output Shape                </span>┃<span style=\"font-weight: bold\">         Param # </span>┃\n┡━━━━━━━━━━━━━━━━━━━━━━━━━━━━━━━━━━━━━━╇━━━━━━━━━━━━━━━━━━━━━━━━━━━━━╇━━━━━━━━━━━━━━━━━┩\n│ vgg16 (<span style=\"color: #0087ff; text-decoration-color: #0087ff\">Functional</span>)                   │ (<span style=\"color: #00d7ff; text-decoration-color: #00d7ff\">None</span>, <span style=\"color: #00af00; text-decoration-color: #00af00\">7</span>, <span style=\"color: #00af00; text-decoration-color: #00af00\">7</span>, <span style=\"color: #00af00; text-decoration-color: #00af00\">512</span>)           │      <span style=\"color: #00af00; text-decoration-color: #00af00\">14,714,688</span> │\n├──────────────────────────────────────┼─────────────────────────────┼─────────────────┤\n│ global_average_pooling2d             │ (<span style=\"color: #00d7ff; text-decoration-color: #00d7ff\">None</span>, <span style=\"color: #00af00; text-decoration-color: #00af00\">512</span>)                 │               <span style=\"color: #00af00; text-decoration-color: #00af00\">0</span> │\n│ (<span style=\"color: #0087ff; text-decoration-color: #0087ff\">GlobalAveragePooling2D</span>)             │                             │                 │\n├──────────────────────────────────────┼─────────────────────────────┼─────────────────┤\n│ batch_normalization                  │ (<span style=\"color: #00d7ff; text-decoration-color: #00d7ff\">None</span>, <span style=\"color: #00af00; text-decoration-color: #00af00\">512</span>)                 │           <span style=\"color: #00af00; text-decoration-color: #00af00\">2,048</span> │\n│ (<span style=\"color: #0087ff; text-decoration-color: #0087ff\">BatchNormalization</span>)                 │                             │                 │\n├──────────────────────────────────────┼─────────────────────────────┼─────────────────┤\n│ dense (<span style=\"color: #0087ff; text-decoration-color: #0087ff\">Dense</span>)                        │ (<span style=\"color: #00d7ff; text-decoration-color: #00d7ff\">None</span>, <span style=\"color: #00af00; text-decoration-color: #00af00\">64</span>)                  │          <span style=\"color: #00af00; text-decoration-color: #00af00\">32,832</span> │\n├──────────────────────────────────────┼─────────────────────────────┼─────────────────┤\n│ dropout (<span style=\"color: #0087ff; text-decoration-color: #0087ff\">Dropout</span>)                    │ (<span style=\"color: #00d7ff; text-decoration-color: #00d7ff\">None</span>, <span style=\"color: #00af00; text-decoration-color: #00af00\">64</span>)                  │               <span style=\"color: #00af00; text-decoration-color: #00af00\">0</span> │\n├──────────────────────────────────────┼─────────────────────────────┼─────────────────┤\n│ dense_1 (<span style=\"color: #0087ff; text-decoration-color: #0087ff\">Dense</span>)                      │ (<span style=\"color: #00d7ff; text-decoration-color: #00d7ff\">None</span>, <span style=\"color: #00af00; text-decoration-color: #00af00\">6</span>)                   │             <span style=\"color: #00af00; text-decoration-color: #00af00\">390</span> │\n└──────────────────────────────────────┴─────────────────────────────┴─────────────────┘\n</pre>\n"
          },
          "metadata": {}
        },
        {
          "output_type": "display_data",
          "data": {
            "text/plain": "\u001b[1m Total params: \u001b[0m\u001b[38;5;34m14,749,958\u001b[0m (56.27 MB)\n",
            "text/html": "<pre style=\"white-space:pre;overflow-x:auto;line-height:normal;font-family:Menlo,'DejaVu Sans Mono',consolas,'Courier New',monospace\"><span style=\"font-weight: bold\"> Total params: </span><span style=\"color: #00af00; text-decoration-color: #00af00\">14,749,958</span> (56.27 MB)\n</pre>\n"
          },
          "metadata": {}
        },
        {
          "output_type": "display_data",
          "data": {
            "text/plain": "\u001b[1m Trainable params: \u001b[0m\u001b[38;5;34m14,748,934\u001b[0m (56.26 MB)\n",
            "text/html": "<pre style=\"white-space:pre;overflow-x:auto;line-height:normal;font-family:Menlo,'DejaVu Sans Mono',consolas,'Courier New',monospace\"><span style=\"font-weight: bold\"> Trainable params: </span><span style=\"color: #00af00; text-decoration-color: #00af00\">14,748,934</span> (56.26 MB)\n</pre>\n"
          },
          "metadata": {}
        },
        {
          "output_type": "display_data",
          "data": {
            "text/plain": "\u001b[1m Non-trainable params: \u001b[0m\u001b[38;5;34m1,024\u001b[0m (4.00 KB)\n",
            "text/html": "<pre style=\"white-space:pre;overflow-x:auto;line-height:normal;font-family:Menlo,'DejaVu Sans Mono',consolas,'Courier New',monospace\"><span style=\"font-weight: bold\"> Non-trainable params: </span><span style=\"color: #00af00; text-decoration-color: #00af00\">1,024</span> (4.00 KB)\n</pre>\n"
          },
          "metadata": {}
        },
        {
          "name": "stdout",
          "text": "Epoch 1/10\n",
          "output_type": "stream"
        },
        {
          "name": "stderr",
          "text": "/usr/local/lib/python3.10/dist-packages/keras/src/trainers/data_adapters/py_dataset_adapter.py:122: UserWarning: Your `PyDataset` class should call `super().__init__(**kwargs)` in its constructor. `**kwargs` can include `workers`, `use_multiprocessing`, `max_queue_size`. Do not pass these arguments to `fit()`, as they will be ignored.\n  self._warn_if_super_not_called()\n",
          "output_type": "stream"
        },
        {
          "name": "stdout",
          "text": "\u001b[1m1500/1500\u001b[0m \u001b[32m━━━━━━━━━━━━━━━━━━━━\u001b[0m\u001b[37m\u001b[0m \u001b[1m0s\u001b[0m 512ms/step - accuracy: 0.9759 - loss: 0.8160 - recall: 0.9673\nEpoch 1: val_accuracy improved from -inf to 1.00000, saving model to best_model.keras\n\u001b[1m1500/1500\u001b[0m \u001b[32m━━━━━━━━━━━━━━━━━━━━\u001b[0m\u001b[37m\u001b[0m \u001b[1m958s\u001b[0m 610ms/step - accuracy: 0.9759 - loss: 0.8157 - recall: 0.9673 - val_accuracy: 1.0000 - val_loss: 0.0697 - val_recall: 1.0000 - learning_rate: 1.0000e-04\nEpoch 2/10\n\u001b[1m1500/1500\u001b[0m \u001b[32m━━━━━━━━━━━━━━━━━━━━\u001b[0m\u001b[37m\u001b[0m \u001b[1m0s\u001b[0m 516ms/step - accuracy: 0.9999 - loss: 0.0489 - recall: 0.9998\nEpoch 2: val_accuracy did not improve from 1.00000\n\u001b[1m1500/1500\u001b[0m \u001b[32m━━━━━━━━━━━━━━━━━━━━\u001b[0m\u001b[37m\u001b[0m \u001b[1m865s\u001b[0m 575ms/step - accuracy: 0.9999 - loss: 0.0489 - recall: 0.9998 - val_accuracy: 1.0000 - val_loss: 0.0123 - val_recall: 1.0000 - learning_rate: 1.0000e-04\nEpoch 3/10\n\u001b[1m1500/1500\u001b[0m \u001b[32m━━━━━━━━━━━━━━━━━━━━\u001b[0m\u001b[37m\u001b[0m \u001b[1m0s\u001b[0m 508ms/step - accuracy: 0.9982 - loss: 0.0271 - recall: 0.9973\nEpoch 3: val_accuracy did not improve from 1.00000\n\u001b[1m1500/1500\u001b[0m \u001b[32m━━━━━━━━━━━━━━━━━━━━\u001b[0m\u001b[37m\u001b[0m \u001b[1m851s\u001b[0m 565ms/step - accuracy: 0.9982 - loss: 0.0271 - recall: 0.9973 - val_accuracy: 1.0000 - val_loss: 0.0097 - val_recall: 1.0000 - learning_rate: 1.0000e-04\nEpoch 4/10\n\u001b[1m1500/1500\u001b[0m \u001b[32m━━━━━━━━━━━━━━━━━━━━\u001b[0m\u001b[37m\u001b[0m \u001b[1m0s\u001b[0m 508ms/step - accuracy: 1.0000 - loss: 0.0140 - recall: 0.9998\nEpoch 4: val_accuracy did not improve from 1.00000\n\u001b[1m1500/1500\u001b[0m \u001b[32m━━━━━━━━━━━━━━━━━━━━\u001b[0m\u001b[37m\u001b[0m \u001b[1m858s\u001b[0m 570ms/step - accuracy: 1.0000 - loss: 0.0140 - recall: 0.9998 - val_accuracy: 1.0000 - val_loss: 0.0075 - val_recall: 1.0000 - learning_rate: 1.0000e-04\nEpoch 5/10\n\u001b[1m1500/1500\u001b[0m \u001b[32m━━━━━━━━━━━━━━━━━━━━\u001b[0m\u001b[37m\u001b[0m \u001b[1m0s\u001b[0m 506ms/step - accuracy: 0.9992 - loss: 0.0150 - recall: 0.9987\nEpoch 5: val_accuracy did not improve from 1.00000\n\u001b[1m1500/1500\u001b[0m \u001b[32m━━━━━━━━━━━━━━━━━━━━\u001b[0m\u001b[37m\u001b[0m \u001b[1m852s\u001b[0m 566ms/step - accuracy: 0.9992 - loss: 0.0150 - recall: 0.9987 - val_accuracy: 1.0000 - val_loss: 0.0067 - val_recall: 1.0000 - learning_rate: 1.0000e-04\nEpoch 6/10\n\u001b[1m1500/1500\u001b[0m \u001b[32m━━━━━━━━━━━━━━━━━━━━\u001b[0m\u001b[37m\u001b[0m \u001b[1m0s\u001b[0m 505ms/step - accuracy: 0.9999 - loss: 0.0094 - recall: 0.9999\nEpoch 6: val_accuracy did not improve from 1.00000\n\u001b[1m1500/1500\u001b[0m \u001b[32m━━━━━━━━━━━━━━━━━━━━\u001b[0m\u001b[37m\u001b[0m \u001b[1m857s\u001b[0m 570ms/step - accuracy: 0.9999 - loss: 0.0094 - recall: 0.9999 - val_accuracy: 1.0000 - val_loss: 0.0054 - val_recall: 1.0000 - learning_rate: 1.0000e-04\nEpoch 7/10\n\u001b[1m1500/1500\u001b[0m \u001b[32m━━━━━━━━━━━━━━━━━━━━\u001b[0m\u001b[37m\u001b[0m \u001b[1m0s\u001b[0m 505ms/step - accuracy: 1.0000 - loss: 0.0075 - recall: 0.9999\nEpoch 7: val_accuracy did not improve from 1.00000\n\u001b[1m1500/1500\u001b[0m \u001b[32m━━━━━━━━━━━━━━━━━━━━\u001b[0m\u001b[37m\u001b[0m \u001b[1m858s\u001b[0m 570ms/step - accuracy: 1.0000 - loss: 0.0075 - recall: 0.9999 - val_accuracy: 1.0000 - val_loss: 0.0043 - val_recall: 1.0000 - learning_rate: 1.0000e-04\nEpoch 8/10\n\u001b[1m1500/1500\u001b[0m \u001b[32m━━━━━━━━━━━━━━━━━━━━\u001b[0m\u001b[37m\u001b[0m \u001b[1m0s\u001b[0m 501ms/step - accuracy: 0.9982 - loss: 0.0156 - recall: 0.9979\nEpoch 8: val_accuracy did not improve from 1.00000\n\u001b[1m1500/1500\u001b[0m \u001b[32m━━━━━━━━━━━━━━━━━━━━\u001b[0m\u001b[37m\u001b[0m \u001b[1m854s\u001b[0m 567ms/step - accuracy: 0.9982 - loss: 0.0156 - recall: 0.9979 - val_accuracy: 1.0000 - val_loss: 0.0062 - val_recall: 1.0000 - learning_rate: 1.0000e-04\nEpoch 9/10\n\u001b[1m1500/1500\u001b[0m \u001b[32m━━━━━━━━━━━━━━━━━━━━\u001b[0m\u001b[37m\u001b[0m \u001b[1m0s\u001b[0m 500ms/step - accuracy: 0.9999 - loss: 0.0072 - recall: 0.9999\nEpoch 9: val_accuracy did not improve from 1.00000\n\u001b[1m1500/1500\u001b[0m \u001b[32m━━━━━━━━━━━━━━━━━━━━\u001b[0m\u001b[37m\u001b[0m \u001b[1m851s\u001b[0m 565ms/step - accuracy: 0.9999 - loss: 0.0072 - recall: 0.9999 - val_accuracy: 1.0000 - val_loss: 0.0041 - val_recall: 1.0000 - learning_rate: 1.0000e-04\nEpoch 10/10\n\u001b[1m1500/1500\u001b[0m \u001b[32m━━━━━━━━━━━━━━━━━━━━\u001b[0m\u001b[37m\u001b[0m \u001b[1m0s\u001b[0m 502ms/step - accuracy: 1.0000 - loss: 0.0056 - recall: 1.0000\nEpoch 10: val_accuracy did not improve from 1.00000\n\u001b[1m1500/1500\u001b[0m \u001b[32m━━━━━━━━━━━━━━━━━━━━\u001b[0m\u001b[37m\u001b[0m \u001b[1m850s\u001b[0m 565ms/step - accuracy: 1.0000 - loss: 0.0056 - recall: 1.0000 - val_accuracy: 1.0000 - val_loss: 0.0034 - val_recall: 1.0000 - learning_rate: 1.0000e-04\n",
          "output_type": "stream"
        }
      ],
      "execution_count": null
    },
    {
      "cell_type": "code",
      "source": [
        "import numpy as np\n",
        "from sklearn.metrics import classification_report\n",
        "\n",
        "# Predict on the test set\n",
        "\n",
        "y_pred = model.predict(test_generator)\n",
        "y_pred_classes = np.argmax(y_pred, axis=1)\n",
        "\n",
        "# Get true labels\n",
        "y_true = test_generator.classes\n",
        "\n",
        "# Print classification report\n",
        "print(classification_report(y_true, y_pred_classes, target_names=test_generator.class_indices.keys()))\n"
      ],
      "metadata": {
        "trusted": true,
        "execution": {
          "iopub.status.busy": "2025-04-07T16:41:54.940012Z",
          "iopub.execute_input": "2025-04-07T16:41:54.940369Z",
          "iopub.status.idle": "2025-04-07T16:45:51.642302Z",
          "shell.execute_reply.started": "2025-04-07T16:41:54.940340Z",
          "shell.execute_reply": "2025-04-07T16:45:51.641552Z"
        },
        "id": "adrfV90A4RH7",
        "outputId": "8904183e-2250-4efd-b3bb-22ec739c747b"
      },
      "outputs": [
        {
          "name": "stdout",
          "text": "\u001b[1m775/775\u001b[0m \u001b[32m━━━━━━━━━━━━━━━━━━━━\u001b[0m\u001b[37m\u001b[0m \u001b[1m236s\u001b[0m 304ms/step\n              precision    recall  f1-score   support\n\n           F       1.00      1.00      1.00       161\n           M       1.00      1.00      1.00      2101\n           N       1.00      1.00      1.00     18926\n           Q       1.00      1.00      1.00      1608\n           S       1.00      1.00      1.00       556\n           V       1.00      1.00      1.00      1447\n\n    accuracy                           1.00     24799\n   macro avg       1.00      1.00      1.00     24799\nweighted avg       1.00      1.00      1.00     24799\n\n",
          "output_type": "stream"
        }
      ],
      "execution_count": null
    },
    {
      "cell_type": "markdown",
      "source": [
        "**This is a great result ,so I will save this model**"
      ],
      "metadata": {
        "id": "BXax2Dzp-aBA"
      }
    },
    {
      "cell_type": "code",
      "source": [
        "model.save('my_ecg_model.h5')"
      ],
      "metadata": {
        "trusted": true,
        "execution": {
          "iopub.status.busy": "2025-04-07T16:55:38.567663Z",
          "iopub.execute_input": "2025-04-07T16:55:38.568002Z",
          "iopub.status.idle": "2025-04-07T16:55:39.065490Z",
          "shell.execute_reply.started": "2025-04-07T16:55:38.567974Z",
          "shell.execute_reply": "2025-04-07T16:55:39.064233Z"
        },
        "id": "YhrgWMUU4RIh"
      },
      "outputs": [],
      "execution_count": null
    },
    {
      "cell_type": "code",
      "source": [],
      "metadata": {
        "id": "eVChqkbi-qH_"
      },
      "execution_count": null,
      "outputs": []
    },
    {
      "cell_type": "code",
      "source": [
        "print(train_generator.class_indices)"
      ],
      "metadata": {
        "trusted": true,
        "execution": {
          "iopub.status.busy": "2025-04-07T17:07:43.068861Z",
          "iopub.execute_input": "2025-04-07T17:07:43.069150Z",
          "iopub.status.idle": "2025-04-07T17:07:43.073598Z",
          "shell.execute_reply.started": "2025-04-07T17:07:43.069129Z",
          "shell.execute_reply": "2025-04-07T17:07:43.072874Z"
        },
        "id": "SSez--dR4RIj",
        "outputId": "a16e65fb-9f60-4275-cc4e-0ad6f602d450"
      },
      "outputs": [
        {
          "name": "stdout",
          "text": "{'F': 0, 'M': 1, 'N': 2, 'Q': 3, 'S': 4, 'V': 5}\n",
          "output_type": "stream"
        }
      ],
      "execution_count": null
    },
    {
      "cell_type": "code",
      "source": [
        "import numpy as np\n",
        "import tensorflow as tf\n",
        "from tensorflow.keras.preprocessing import image\n",
        "import os\n",
        "\n",
        "# Load trained model\n",
        "model = tf.keras.models.load_model(\"/kaggle/working/my_ecg_model.h5\")\n",
        "\n",
        "# Define class labels\n",
        "class_labels = ['F', 'M', 'N', 'Q', 'S', 'V']\n",
        "# Load and preprocess the image\n",
        "img_path = \"/kaggle/input/ecg-image-data/ECG_Image_data/test/F/F0.png\"\n",
        "img = image.load_img(img_path, target_size=(224, 224))\n",
        "img_array = image.img_to_array(img) / 255.0\n",
        "img_array = np.expand_dims(img_array, axis=0)\n",
        "\n",
        "# Predict the class\n",
        "prediction = model.predict(img_array)\n",
        "predicted_class_index = np.argmax(prediction)\n",
        "predicted_class = class_labels[predicted_class_index]\n",
        "\n",
        "# Get actual class from folder name in path\n",
        "actual_class = os.path.basename(os.path.dirname(img_path)).upper()\n",
        "\n",
        "# Diagnostic description\n",
        "descriptions = {\n",
        "    \"N\": \"Normal Beat – The heart rhythm appears within normal limits.\",\n",
        "    \"F\": \"Fusion of paced and normal beat – A hybrid beat, usually seen in patients with pacemakers.\",\n",
        "    \"S\": \"Supraventricular – Indicates beats originating above the ventricles, e.g., atrial fibrillation.\",\n",
        "    \"Q\": \"Unknown Beat – Irregular beat that doesn't match common arrhythmias.\",\n",
        "    \"V\": \"Premature Ventricular Contraction (PVC) – A wide QRS complex indicating early ventricular activation.\",\n",
        "    \"M\": \"Fusion of ventricular and normal beat – Simultaneous activation from two different pacemakers.\"\n",
        "}\n",
        "print(\"\\n--- ECG Diagnostic Report ---\\n\")\n",
        "print(f\"Image Path: {img_path}\")\n",
        "print(f\"Predicted Class: {predicted_class} – {descriptions[predicted_class]}\")\n",
        "print(f\"Actual Class from Path: {actual_class} – {descriptions.get(actual_class, 'Unknown')}\")\n",
        "\n",
        "if predicted_class != actual_class:\n",
        "    print(\"\\n[!] Warning: Prediction does not match actual label.\")\n",
        "    print(\"    This may be due to image ambiguity or class imbalance.\")\n",
        "    print(\"    Consider visual review or more training examples.\\n\")\n",
        "else:\n",
        "    print(\"\\n[✓] Model prediction matches the actual label.\\n\")\n",
        "\n",
        "print(\"--- End of Report ---\")"
      ],
      "metadata": {
        "trusted": true,
        "execution": {
          "iopub.status.busy": "2025-04-07T17:29:38.504473Z",
          "iopub.execute_input": "2025-04-07T17:29:38.504825Z",
          "iopub.status.idle": "2025-04-07T17:29:39.391591Z",
          "shell.execute_reply.started": "2025-04-07T17:29:38.504796Z",
          "shell.execute_reply": "2025-04-07T17:29:39.390673Z"
        },
        "id": "uE97JuWu4RIl",
        "outputId": "4f53f211-3803-4007-d128-26716645c779"
      },
      "outputs": [
        {
          "name": "stdout",
          "text": "\u001b[1m1/1\u001b[0m \u001b[32m━━━━━━━━━━━━━━━━━━━━\u001b[0m\u001b[37m\u001b[0m \u001b[1m0s\u001b[0m 407ms/step\n\n--- ECG Diagnostic Report ---\n\nImage Path: /kaggle/input/ecg-image-data/ECG_Image_data/test/F/F0.png\nPredicted Class: F – Fusion of paced and normal beat – A hybrid beat, usually seen in patients with pacemakers.\nActual Class from Path: F – Fusion of paced and normal beat – A hybrid beat, usually seen in patients with pacemakers.\n\n[✓] Model prediction matches the actual label.\n\n--- End of Report ---\n",
          "output_type": "stream"
        }
      ],
      "execution_count": null
    }
  ]
}