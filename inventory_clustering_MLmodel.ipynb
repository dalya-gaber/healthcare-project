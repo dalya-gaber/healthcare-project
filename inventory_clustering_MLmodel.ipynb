{
 "cells": [
  {
   "cell_type": "code",
   "execution_count": null,
   "metadata": {},
   "outputs": [],
   "source": [
    "# Load the Dataset\n",
    "\n",
    "import pandas as pd  # For data manipulation and analysis\n",
    "\n",
    "df = pd.read_csv(\"inventory_clustered_EDA.csv\")"
   ]
  },
  {
   "cell_type": "code",
   "execution_count": 2,
   "metadata": {},
   "outputs": [
    {
     "data": {
      "text/html": [
       "<div>\n",
       "<style scoped>\n",
       "    .dataframe tbody tr th:only-of-type {\n",
       "        vertical-align: middle;\n",
       "    }\n",
       "\n",
       "    .dataframe tbody tr th {\n",
       "        vertical-align: top;\n",
       "    }\n",
       "\n",
       "    .dataframe thead th {\n",
       "        text-align: right;\n",
       "    }\n",
       "</style>\n",
       "<table border=\"1\" class=\"dataframe\">\n",
       "  <thead>\n",
       "    <tr style=\"text-align: right;\">\n",
       "      <th></th>\n",
       "      <th>Date</th>\n",
       "      <th>Item_Type</th>\n",
       "      <th>Current_Stock</th>\n",
       "      <th>Min_Required</th>\n",
       "      <th>Max_Capacity</th>\n",
       "      <th>Unit_Cost</th>\n",
       "      <th>Avg_Usage_Per_Day</th>\n",
       "      <th>Restock_Lead_Time</th>\n",
       "      <th>Shortage_Risk</th>\n",
       "      <th>Reorder_Point</th>\n",
       "    </tr>\n",
       "  </thead>\n",
       "  <tbody>\n",
       "    <tr>\n",
       "      <th>0</th>\n",
       "      <td>2024-10-01</td>\n",
       "      <td>0</td>\n",
       "      <td>1542</td>\n",
       "      <td>264</td>\n",
       "      <td>1018</td>\n",
       "      <td>4467.55</td>\n",
       "      <td>108</td>\n",
       "      <td>17</td>\n",
       "      <td>0</td>\n",
       "      <td>1968.0</td>\n",
       "    </tr>\n",
       "    <tr>\n",
       "      <th>1</th>\n",
       "      <td>2024-10-02</td>\n",
       "      <td>1</td>\n",
       "      <td>2487</td>\n",
       "      <td>656</td>\n",
       "      <td>3556</td>\n",
       "      <td>5832.29</td>\n",
       "      <td>55</td>\n",
       "      <td>12</td>\n",
       "      <td>0</td>\n",
       "      <td>988.0</td>\n",
       "    </tr>\n",
       "    <tr>\n",
       "      <th>2</th>\n",
       "      <td>2024-10-03</td>\n",
       "      <td>1</td>\n",
       "      <td>2371</td>\n",
       "      <td>384</td>\n",
       "      <td>5562</td>\n",
       "      <td>16062.98</td>\n",
       "      <td>470</td>\n",
       "      <td>6</td>\n",
       "      <td>1</td>\n",
       "      <td>3012.0</td>\n",
       "    </tr>\n",
       "    <tr>\n",
       "      <th>3</th>\n",
       "      <td>2024-10-04</td>\n",
       "      <td>0</td>\n",
       "      <td>2038</td>\n",
       "      <td>438</td>\n",
       "      <td>1131</td>\n",
       "      <td>744.10</td>\n",
       "      <td>207</td>\n",
       "      <td>15</td>\n",
       "      <td>0</td>\n",
       "      <td>3324.0</td>\n",
       "    </tr>\n",
       "    <tr>\n",
       "      <th>4</th>\n",
       "      <td>2024-10-05</td>\n",
       "      <td>1</td>\n",
       "      <td>2410</td>\n",
       "      <td>338</td>\n",
       "      <td>1013</td>\n",
       "      <td>15426.53</td>\n",
       "      <td>158</td>\n",
       "      <td>12</td>\n",
       "      <td>0</td>\n",
       "      <td>2065.0</td>\n",
       "    </tr>\n",
       "  </tbody>\n",
       "</table>\n",
       "</div>"
      ],
      "text/plain": [
       "         Date  Item_Type  Current_Stock  Min_Required  Max_Capacity  \\\n",
       "0  2024-10-01          0           1542           264          1018   \n",
       "1  2024-10-02          1           2487           656          3556   \n",
       "2  2024-10-03          1           2371           384          5562   \n",
       "3  2024-10-04          0           2038           438          1131   \n",
       "4  2024-10-05          1           2410           338          1013   \n",
       "\n",
       "   Unit_Cost  Avg_Usage_Per_Day  Restock_Lead_Time  Shortage_Risk  \\\n",
       "0    4467.55                108                 17              0   \n",
       "1    5832.29                 55                 12              0   \n",
       "2   16062.98                470                  6              1   \n",
       "3     744.10                207                 15              0   \n",
       "4   15426.53                158                 12              0   \n",
       "\n",
       "   Reorder_Point  \n",
       "0         1968.0  \n",
       "1          988.0  \n",
       "2         3012.0  \n",
       "3         3324.0  \n",
       "4         2065.0  "
      ]
     },
     "execution_count": 2,
     "metadata": {},
     "output_type": "execute_result"
    }
   ],
   "source": [
    "df.head()"
   ]
  },
  {
   "cell_type": "code",
   "execution_count": 3,
   "metadata": {},
   "outputs": [
    {
     "data": {
      "text/plain": [
       "Date                  object\n",
       "Item_Type              int64\n",
       "Current_Stock          int64\n",
       "Min_Required           int64\n",
       "Max_Capacity           int64\n",
       "Unit_Cost            float64\n",
       "Avg_Usage_Per_Day      int64\n",
       "Restock_Lead_Time      int64\n",
       "Shortage_Risk          int64\n",
       "Reorder_Point        float64\n",
       "dtype: object"
      ]
     },
     "execution_count": 3,
     "metadata": {},
     "output_type": "execute_result"
    }
   ],
   "source": [
    "df.dtypes"
   ]
  },
  {
   "cell_type": "code",
   "execution_count": 4,
   "metadata": {},
   "outputs": [
    {
     "data": {
      "text/html": [
       "<div>\n",
       "<style scoped>\n",
       "    .dataframe tbody tr th:only-of-type {\n",
       "        vertical-align: middle;\n",
       "    }\n",
       "\n",
       "    .dataframe tbody tr th {\n",
       "        vertical-align: top;\n",
       "    }\n",
       "\n",
       "    .dataframe thead th {\n",
       "        text-align: right;\n",
       "    }\n",
       "</style>\n",
       "<table border=\"1\" class=\"dataframe\">\n",
       "  <thead>\n",
       "    <tr style=\"text-align: right;\">\n",
       "      <th></th>\n",
       "      <th>Date</th>\n",
       "      <th>Item_Type</th>\n",
       "      <th>Current_Stock</th>\n",
       "      <th>Min_Required</th>\n",
       "      <th>Max_Capacity</th>\n",
       "      <th>Unit_Cost</th>\n",
       "      <th>Avg_Usage_Per_Day</th>\n",
       "      <th>Restock_Lead_Time</th>\n",
       "      <th>Shortage_Risk</th>\n",
       "      <th>Reorder_Point</th>\n",
       "    </tr>\n",
       "  </thead>\n",
       "  <tbody>\n",
       "    <tr>\n",
       "      <th>0</th>\n",
       "      <td>2024-10-01</td>\n",
       "      <td>0</td>\n",
       "      <td>1542</td>\n",
       "      <td>264</td>\n",
       "      <td>1018</td>\n",
       "      <td>4467.55</td>\n",
       "      <td>108</td>\n",
       "      <td>17</td>\n",
       "      <td>0</td>\n",
       "      <td>1968.0</td>\n",
       "    </tr>\n",
       "    <tr>\n",
       "      <th>1</th>\n",
       "      <td>2024-10-02</td>\n",
       "      <td>1</td>\n",
       "      <td>2487</td>\n",
       "      <td>656</td>\n",
       "      <td>3556</td>\n",
       "      <td>5832.29</td>\n",
       "      <td>55</td>\n",
       "      <td>12</td>\n",
       "      <td>0</td>\n",
       "      <td>988.0</td>\n",
       "    </tr>\n",
       "    <tr>\n",
       "      <th>2</th>\n",
       "      <td>2024-10-03</td>\n",
       "      <td>1</td>\n",
       "      <td>2371</td>\n",
       "      <td>384</td>\n",
       "      <td>5562</td>\n",
       "      <td>16062.98</td>\n",
       "      <td>470</td>\n",
       "      <td>6</td>\n",
       "      <td>1</td>\n",
       "      <td>3012.0</td>\n",
       "    </tr>\n",
       "    <tr>\n",
       "      <th>3</th>\n",
       "      <td>2024-10-04</td>\n",
       "      <td>0</td>\n",
       "      <td>2038</td>\n",
       "      <td>438</td>\n",
       "      <td>1131</td>\n",
       "      <td>744.10</td>\n",
       "      <td>207</td>\n",
       "      <td>15</td>\n",
       "      <td>0</td>\n",
       "      <td>3324.0</td>\n",
       "    </tr>\n",
       "    <tr>\n",
       "      <th>4</th>\n",
       "      <td>2024-10-05</td>\n",
       "      <td>1</td>\n",
       "      <td>2410</td>\n",
       "      <td>338</td>\n",
       "      <td>1013</td>\n",
       "      <td>15426.53</td>\n",
       "      <td>158</td>\n",
       "      <td>12</td>\n",
       "      <td>0</td>\n",
       "      <td>2065.0</td>\n",
       "    </tr>\n",
       "  </tbody>\n",
       "</table>\n",
       "</div>"
      ],
      "text/plain": [
       "         Date  Item_Type  Current_Stock  Min_Required  Max_Capacity  \\\n",
       "0  2024-10-01          0           1542           264          1018   \n",
       "1  2024-10-02          1           2487           656          3556   \n",
       "2  2024-10-03          1           2371           384          5562   \n",
       "3  2024-10-04          0           2038           438          1131   \n",
       "4  2024-10-05          1           2410           338          1013   \n",
       "\n",
       "   Unit_Cost  Avg_Usage_Per_Day  Restock_Lead_Time  Shortage_Risk  \\\n",
       "0    4467.55                108                 17              0   \n",
       "1    5832.29                 55                 12              0   \n",
       "2   16062.98                470                  6              1   \n",
       "3     744.10                207                 15              0   \n",
       "4   15426.53                158                 12              0   \n",
       "\n",
       "   Reorder_Point  \n",
       "0         1968.0  \n",
       "1          988.0  \n",
       "2         3012.0  \n",
       "3         3324.0  \n",
       "4         2065.0  "
      ]
     },
     "execution_count": 4,
     "metadata": {},
     "output_type": "execute_result"
    }
   ],
   "source": [
    "df.head()"
   ]
  },
  {
   "cell_type": "code",
   "execution_count": 5,
   "metadata": {},
   "outputs": [],
   "source": [
    "# Define features and target\n",
    "X = df.drop(['Shortage_Risk' , 'Item_Type', 'Date' , 'Max_Capacity' , 'Unit_Cost'], axis = 1)   # Features\n",
    "y = df['Shortage_Risk']  # Target variable"
   ]
  },
  {
   "cell_type": "code",
   "execution_count": 6,
   "metadata": {},
   "outputs": [],
   "source": [
    "# Train-test split\n",
    "\n",
    "from sklearn.model_selection import train_test_split\n",
    "X_train, X_test, y_train, y_test = train_test_split(X, y, test_size=0.2, random_state=42, stratify= y)"
   ]
  },
  {
   "cell_type": "code",
   "execution_count": 7,
   "metadata": {},
   "outputs": [
    {
     "name": "stdout",
     "output_type": "stream",
     "text": [
      "Accuracy Score: 0.98\n",
      "ROC AUC Score: 0.9807692307692308\n",
      "Classification Report:\n",
      "               precision    recall  f1-score   support\n",
      "\n",
      "           0       1.00      0.96      0.98        52\n",
      "           1       0.96      1.00      0.98        48\n",
      "\n",
      "    accuracy                           0.98       100\n",
      "   macro avg       0.98      0.98      0.98       100\n",
      "weighted avg       0.98      0.98      0.98       100\n",
      "\n"
     ]
    },
    {
     "data": {
      "image/png": "[encoded data removed]",
      "text/plain": [
       "<Figure size 600x400 with 2 Axes>"
      ]
     },
     "metadata": {},
     "output_type": "display_data"
    }
   ],
   "source": [
    "# random forest\n",
    "import numpy as np\n",
    "import matplotlib.pyplot as plt\n",
    "import seaborn as sns\n",
    "from sklearn.metrics import classification_report, confusion_matrix, roc_auc_score, accuracy_score\n",
    "from sklearn.ensemble import RandomForestClassifier\n",
    "\n",
    "\n",
    "# Initialize Random Forest classifier \n",
    "rf_model = RandomForestClassifier(\n",
    "    n_estimators=200,  # Number of trees\n",
    "    max_depth=10,  # Maximum tree depth\n",
    "    min_samples_split=5,  # Minimum samples required to split\n",
    "    min_samples_leaf=2,  # Minimum samples at leaf\n",
    "    random_state=42\n",
    ")\n",
    "\n",
    "# Train the model\n",
    "rf_model.fit(X_train, y_train)\n",
    "\n",
    "# Make predictions\n",
    "y_pred = rf_model.predict(X_test)\n",
    "\n",
    "# Evaluate model performance\n",
    "print(\"Accuracy Score:\", accuracy_score(y_test, y_pred))\n",
    "print(\"ROC AUC Score:\", roc_auc_score(y_test, y_pred))\n",
    "print(\"Classification Report:\\n\", classification_report(y_test, y_pred))\n",
    "\n",
    "# Confusion Matrix\n",
    "plt.figure(figsize=(6, 4))\n",
    "sns.heatmap(confusion_matrix(y_test, y_pred), annot=True, fmt='d', cmap=\"Blues\", xticklabels=['No Shortage', 'Shortage'], yticklabels=['No Shortage', 'Shortage'])\n",
    "plt.xlabel(\"Predicted\")\n",
    "plt.ylabel(\"Actual\")\n",
    "plt.title(\"Confusion Matrix\")\n",
    "plt.show()"
   ]
  },
  {
   "cell_type": "markdown",
   "metadata": {},
   "source": [
    "final conclusion:-\n",
    "\n",
    "Accuracy: 98% → Very high overall correctness.\n",
    "\n",
    "Recall (Class 1) = 1 (100%) → my model detects all shortages perfectly (no false negatives).\n",
    "\n",
    "Precision vs. Recall Balance: As precision is high (~90% or above), the model is excellent.\n",
    "\n",
    "F1-score balances precision and recall. As F1-score is high (~95%+), then my model is performing well.\n",
    "\n",
    "note that: I had tested other models + this same model but with different parameters, then applied grid search to get the best parameters for highest recall. As in this case, it's more important to detect all shortages perfectly than detecting all non shortages.\n",
    "\n",
    "unfotunately, I didn't know that these tries must be kept in the notebook and deleted them all leaving the best model only."
   ]
  },
  {
   "cell_type": "markdown",
   "metadata": {},
   "source": [
    "<h1> feature importance:-"
   ]
  },
  {
   "cell_type": "code",
   "execution_count": 8,
   "metadata": {},
   "outputs": [
    {
     "data": {
      "image/png": "[encoded data removed]",
      "text/plain": [
       "<Figure size 1000x600 with 1 Axes>"
      ]
     },
     "metadata": {},
     "output_type": "display_data"
    }
   ],
   "source": [
    "\n",
    "# Ensure X_train is a DataFrame before splitting\n",
    "feature_names = X.columns if isinstance(X, pd.DataFrame) else None  # Extract feature names\n",
    "\n",
    "\n",
    "# If X_train is a NumPy array, use feature_names for plotting\n",
    "if isinstance(X_train, np.ndarray) and feature_names is not None:\n",
    "    X_train = pd.DataFrame(X_train, columns=feature_names)\n",
    "\n",
    "# Extract feature importance scores\n",
    "feature_importance = rf_model.feature_importances_\n",
    "\n",
    "# Create a DataFrame for visualization\n",
    "importance_df = pd.DataFrame({\n",
    "    \"Feature\": X.columns,\n",
    "    \"Importance\": feature_importance\n",
    "}).sort_values(by=\"Importance\", ascending=False)\n",
    "\n",
    "\n",
    "# Plot feature importance\n",
    "plt.figure(figsize=(10, 6))\n",
    "plt.barh(X_train.columns, feature_importance, color='skyblue')\n",
    "plt.xlabel(\"Feature Importance Score\")\n",
    "plt.ylabel(\"Features\")\n",
    "plt.title(\"Feature Importance in random forest Model\")\n",
    "plt.show()"
   ]
  },
  {
   "cell_type": "code",
   "execution_count": null,
   "metadata": {},
   "outputs": [
    {
     "data": {
      "text/plain": [
       "['rf_model_shortage.pkl']"
      ]
     },
     "execution_count": 9,
     "metadata": {},
     "output_type": "execute_result"
    }
   ],
   "source": [
    "# save the model \n",
    "\n",
    "import joblib\n",
    "\n",
    "joblib.dump(rf_model, 'rf_model_shortage.pkl')\n"
   ]
  }
 ],
 "metadata": {
  "kernelspec": {
   "display_name": "base",
   "language": "python",
   "name": "python3"
  },
  "language_info": {
   "codemirror_mode": {
    "name": "ipython",
    "version": 3
   },
   "file_extension": ".py",
   "mimetype": "text/x-python",
   "name": "python",
   "nbconvert_exporter": "python",
   "pygments_lexer": "ipython3",
   "version": "3.12.7"
  }
 },
 "nbformat": 4,
 "nbformat_minor": 2
}
